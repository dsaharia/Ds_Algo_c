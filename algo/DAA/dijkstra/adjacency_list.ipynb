{
 "cells": [
  {
   "cell_type": "code",
   "execution_count": 1,
   "metadata": {},
   "outputs": [],
   "source": [
    "adj_list = {}\n",
    "total_weight = 0\n",
    "with open('nodes.txt') as file:\n",
    "    l1 = file.readline().rstrip()\n",
    "    total_vertex, source = int(l1.split(',')[0]), int(l1.split(',')[1])\n",
    "    for i in range(total_vertex):\n",
    "        adj_list[i+1] = []\n",
    "    for line in file:\n",
    "        l = line.rstrip().split(',')\n",
    "        adj_list[int(l[0])].append(int(l[1]))\n",
    "        total_weight += int(l[2])"
   ]
  },
  {
   "cell_type": "code",
   "execution_count": 5,
   "metadata": {},
   "outputs": [
    {
     "name": "stdout",
     "output_type": "stream",
     "text": [
      "----Adjacency List----\n",
      "1 -> [4, 2]\n",
      "2 -> [4]\n",
      "3 -> [2, 5]\n",
      "4 -> [3, 5]\n",
      "5 -> []\n",
      "Total vertex: 5 Source: 1 Total Weight: 155\n"
     ]
    }
   ],
   "source": [
    "def print_adj_list(adj_list):\n",
    "    print(\"----Adjacency List----\")\n",
    "    for i in range(len(adj_list)):\n",
    "        print(\"{} -> {}\".format(i+1, adj_list[i+1]))\n",
    "        \n",
    "print_adj_list(adj_list)\n",
    "print(\"Total vertex: {} Source: {} Total Weight: {}\".format(total_vertex, source, total_weight))"
   ]
  },
  {
   "cell_type": "code",
   "execution_count": 10,
   "metadata": {},
   "outputs": [],
   "source": [
    "heap = []\n",
    "def make_heap(heap):\n",
    "    for i in range(total_vertex):\n",
    "        heap.append(total_weight + 20)\n",
    "\n",
    "make_heap(heap)"
   ]
  },
  {
   "cell_type": "code",
   "execution_count": 11,
   "metadata": {},
   "outputs": [
    {
     "name": "stdout",
     "output_type": "stream",
     "text": [
      "[175, 175, 175, 175, 175]\n"
     ]
    }
   ],
   "source": [
    "print(heap)"
   ]
  },
  {
   "cell_type": "code",
   "execution_count": null,
   "metadata": {},
   "outputs": [],
   "source": []
  }
 ],
 "metadata": {
  "kernelspec": {
   "display_name": "Python 3",
   "language": "python",
   "name": "python3"
  },
  "language_info": {
   "codemirror_mode": {
    "name": "ipython",
    "version": 3
   },
   "file_extension": ".py",
   "mimetype": "text/x-python",
   "name": "python",
   "nbconvert_exporter": "python",
   "pygments_lexer": "ipython3",
   "version": "3.7.1"
  }
 },
 "nbformat": 4,
 "nbformat_minor": 2
}
