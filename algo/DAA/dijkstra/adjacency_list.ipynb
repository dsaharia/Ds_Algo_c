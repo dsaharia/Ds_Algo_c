{
 "cells": [
  {
   "cell_type": "code",
   "execution_count": 14,
   "metadata": {},
   "outputs": [],
   "source": [
    "adj_list = {}\n",
    "total_weight = 0\n",
    "with open('nodes.txt') as file:\n",
    "    l1 = file.readline().rstrip()\n",
    "    total_vertex, source = int(l1.split(',')[0]), int(l1.split(',')[1])\n",
    "    for i in range(total_vertex):\n",
    "        adj_list[i+1] = []\n",
    "    for line in file:\n",
    "        l = line.rstrip().split(',')\n",
    "        adj_list[int(l[0])].append((int(l[1]), int(l[2])))\n",
    "        total_weight += int(l[2])"
   ]
  },
  {
   "cell_type": "code",
   "execution_count": 16,
   "metadata": {},
   "outputs": [
    {
     "name": "stdout",
     "output_type": "stream",
     "text": [
      "----Adjacency List----\n",
      "1 -> [(4, 25), (2, 45)]\n",
      "2 -> [(4, 20)]\n",
      "3 -> [(2, 18), (5, 17)]\n",
      "4 -> [(3, 19), (5, 11)]\n",
      "5 -> []\n",
      "Total vertex: 5 Source: 1 Total Weight: 155\n"
     ]
    }
   ],
   "source": [
    "def print_adj_list(adj_list):\n",
    "    print(\"----Adjacency List----\")\n",
    "    for i in range(len(adj_list)):\n",
    "        print(\"{} -> {}\".format(i+1, adj_list[i+1]))\n",
    "        \n",
    "print_adj_list(adj_list)\n",
    "print(\"Total vertex: {} Source: {} Total Weight: {}\".format(total_vertex, source, total_weight))"
   ]
  },
  {
   "cell_type": "code",
   "execution_count": 19,
   "metadata": {},
   "outputs": [
    {
     "name": "stdout",
     "output_type": "stream",
     "text": [
      "---Initial Heap---\n",
      "{1: 0, 2: 170, 3: 170, 4: 170, 5: 170}\n"
     ]
    }
   ],
   "source": [
    "heap = {}\n",
    "def create_heap(heap):\n",
    "    for i in range(total_vertex):\n",
    "        if i+1 == source:\n",
    "            heap[i+1] = 0\n",
    "        else:\n",
    "            heap[i+1] = total_weight + 15\n",
    "    print(\"---Initial Heap---\")\n",
    "    print(heap)\n",
    "create_heap(heap)"
   ]
  },
  {
   "cell_type": "code",
   "execution_count": 15,
   "metadata": {},
   "outputs": [
    {
     "data": {
      "text/plain": [
       "{1: [(4, 25), (2, 45)],\n",
       " 2: [(4, 20)],\n",
       " 3: [(2, 18), (5, 17)],\n",
       " 4: [(3, 19), (5, 11)],\n",
       " 5: []}"
      ]
     },
     "execution_count": 15,
     "metadata": {},
     "output_type": "execute_result"
    }
   ],
   "source": [
    "adj_list"
   ]
  },
  {
   "cell_type": "code",
   "execution_count": null,
   "metadata": {},
   "outputs": [],
   "source": []
  }
 ],
 "metadata": {
  "kernelspec": {
   "display_name": "Python 3",
   "language": "python",
   "name": "python3"
  },
  "language_info": {
   "codemirror_mode": {
    "name": "ipython",
    "version": 3
   },
   "file_extension": ".py",
   "mimetype": "text/x-python",
   "name": "python",
   "nbconvert_exporter": "python",
   "pygments_lexer": "ipython3",
   "version": "3.7.1"
  }
 },
 "nbformat": 4,
 "nbformat_minor": 2
}
